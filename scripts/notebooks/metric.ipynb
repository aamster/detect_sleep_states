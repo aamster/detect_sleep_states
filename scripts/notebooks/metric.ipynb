{
 "cells": [
  {
   "cell_type": "code",
   "execution_count": 5,
   "outputs": [],
   "source": [
    "import pandas as pd\n",
    "\n",
    "from detect_sleep_states.metric import score"
   ],
   "metadata": {
    "collapsed": false,
    "ExecuteTime": {
     "end_time": "2023-12-09T13:27:54.768549Z",
     "start_time": "2023-12-09T13:27:54.754917Z"
    }
   },
   "id": "f549bb2e5baf5f3b"
  },
  {
   "cell_type": "code",
   "execution_count": 6,
   "outputs": [],
   "source": [
    "solution = pd.DataFrame(\n",
    "    {'series_id': [1, 1], 'step': [1000, 10000], 'event': ['onset', 'wakeup']})\n",
    "tolerances = {'onset': [12, 36, 60, 90, 120, 150, 180, 240, 300, 360],\n",
    "              'wakeup': [12, 36, 60, 90, 120, 150, 180, 240, 300, 360]}\n",
    "column_names = {\n",
    "        'series_id_column_name': 'series_id',\n",
    "        'time_column_name': 'step',\n",
    "        'event_column_name': 'event',\n",
    "        'score_column_name': 'score',\n",
    "}"
   ],
   "metadata": {
    "collapsed": false,
    "ExecuteTime": {
     "end_time": "2023-12-09T13:27:57.072404Z",
     "start_time": "2023-12-09T13:27:57.068536Z"
    }
   },
   "id": "initial_id"
  },
  {
   "cell_type": "markdown",
   "source": [
    "## Perfect"
   ],
   "metadata": {
    "collapsed": false
   },
   "id": "afd076e87ced0aa9"
  },
  {
   "cell_type": "code",
   "execution_count": 8,
   "outputs": [
    {
     "data": {
      "text/plain": "1.0"
     },
     "execution_count": 8,
     "metadata": {},
     "output_type": "execute_result"
    }
   ],
   "source": [
    "submission = pd.DataFrame({\n",
    "    'series_id': [1, 1], \n",
    "    'step': [1000, 10000],\n",
    "    'event': ['onset', 'wakeup'],\n",
    "    'score': [1., 1]\n",
    "})\n",
    "score(solution, submission, tolerances, **column_names)[0]"
   ],
   "metadata": {
    "collapsed": false,
    "ExecuteTime": {
     "end_time": "2023-12-09T13:29:22.411636Z",
     "start_time": "2023-12-09T13:29:22.297249Z"
    }
   },
   "id": "9f3bde8a23645444"
  },
  {
   "cell_type": "markdown",
   "source": [
    "## Closer pred has higher score"
   ],
   "metadata": {
    "collapsed": false
   },
   "id": "9d4495f0092c59c4"
  },
  {
   "cell_type": "code",
   "execution_count": 9,
   "outputs": [
    {
     "data": {
      "text/plain": "1.0"
     },
     "execution_count": 9,
     "metadata": {},
     "output_type": "execute_result"
    }
   ],
   "source": [
    "submission = pd.DataFrame({\n",
    "    'series_id': [1, 1] * 2, \n",
    "    'step': [1e3, 1e4, 1e3-100, 1e4-100],\n",
    "    'event': ['onset', 'wakeup'] * 2,\n",
    "    'score': [1., 1, 0.5, 0.5]\n",
    "})\n",
    "score(solution, submission, tolerances, **column_names)[0]"
   ],
   "metadata": {
    "collapsed": false,
    "ExecuteTime": {
     "end_time": "2023-12-09T13:31:00.909564Z",
     "start_time": "2023-12-09T13:31:00.827088Z"
    }
   },
   "id": "84070f08366a63ad"
  },
  {
   "cell_type": "markdown",
   "source": [
    "## Not perfect"
   ],
   "metadata": {
    "collapsed": false
   },
   "id": "22d510850d53e8b7"
  },
  {
   "cell_type": "code",
   "execution_count": 11,
   "outputs": [
    {
     "data": {
      "text/plain": "0.6"
     },
     "execution_count": 11,
     "metadata": {},
     "output_type": "execute_result"
    }
   ],
   "source": [
    "submission = pd.DataFrame({\n",
    "    'series_id': [1, 1], \n",
    "    'step': [1e3-100, 1e4-100],\n",
    "    'event': ['onset', 'wakeup'],\n",
    "    'score': [1., 1.]\n",
    "})\n",
    "score(solution, submission, tolerances, **column_names)[0]"
   ],
   "metadata": {
    "collapsed": false,
    "ExecuteTime": {
     "end_time": "2023-12-09T13:36:29.075662Z",
     "start_time": "2023-12-09T13:36:28.994826Z"
    }
   },
   "id": "ec1f45e720e1178d"
  },
  {
   "cell_type": "markdown",
   "source": [
    "## Closer pred has lower score"
   ],
   "metadata": {
    "collapsed": false
   },
   "id": "d976d2d33c0b64bd"
  },
  {
   "cell_type": "code",
   "execution_count": 10,
   "outputs": [
    {
     "data": {
      "text/plain": "0.8"
     },
     "execution_count": 10,
     "metadata": {},
     "output_type": "execute_result"
    }
   ],
   "source": [
    "submission = pd.DataFrame({\n",
    "    'series_id': [1, 1] * 2, \n",
    "    'step': [1e3, 1e4, 1e3-100, 1e4-100],\n",
    "    'event': ['onset', 'wakeup'] * 2,\n",
    "    'score': [0.5, 0.5, 1., 1.]\n",
    "})\n",
    "score(solution, submission, tolerances, **column_names)[0]"
   ],
   "metadata": {
    "collapsed": false,
    "ExecuteTime": {
     "start_time": "2023-12-09T13:31:28.611717Z"
    }
   },
   "id": "f697606ef77601d2"
  },
  {
   "cell_type": "markdown",
   "source": [
    "## Adding even more lower score preds"
   ],
   "metadata": {
    "collapsed": false
   },
   "id": "5519937b265cd7c8"
  },
  {
   "cell_type": "code",
   "execution_count": 14,
   "outputs": [
    {
     "data": {
      "text/plain": "1.0"
     },
     "execution_count": 14,
     "metadata": {},
     "output_type": "execute_result"
    }
   ],
   "source": [
    "submission = pd.DataFrame({\n",
    "    'series_id': [1, 1] * 3, \n",
    "    'step': [1e3, 1e4, 1e3-100, 1e4-100, 1e3-700, 1e4-700],\n",
    "    'event': ['onset', 'wakeup'] * 3,\n",
    "    'score': [1., 1, 0.5, 0.5, 0.25, 0.25]\n",
    "})\n",
    "score(solution, submission, tolerances, **column_names)[0]"
   ],
   "metadata": {
    "collapsed": false,
    "ExecuteTime": {
     "end_time": "2023-12-09T14:02:46.671709Z",
     "start_time": "2023-12-09T14:02:46.563603Z"
    }
   },
   "id": "2f41b052b96c940c"
  },
  {
   "cell_type": "markdown",
   "source": [
    "# Summary:\n",
    "- Adding farther away predictions with lower scores does not hurt metric\n",
    "- Adding closer prediction with lower score improves metric"
   ],
   "metadata": {
    "collapsed": false
   },
   "id": "62a366e38ff7d902"
  },
  {
   "cell_type": "markdown",
   "source": [
    "# Thoughts:\n",
    "To be useful for sleep analysis, we would want the predictions to be meaningful. However the metric either stays the same or improves when multiple predictions are made for the same event which is unrealistic.\n",
    "\n",
    "In the real world setting we would need to choose a cutoff at which to accept a prediction as part of the output.\n",
    "\n",
    "In the case of a farther away prediction with a lower score, we would have to make sure the cutoff is low enough to not output that prediction. If the threshold cutoff was not low enough then we would include multiple predictions which would hurt the output and make analysis unusable. Currently, there is no impact on the metric for predictions with lower score that are further away from the event.\n",
    "\n",
    "In the case of a closer prediction with a lower score, either multiple predictions would be output or the closer prediction would not be output if it was excluded due to the threshold cutoff. In either case it would hurt the prediction for that event, not help it. Currently, it improves the metric, which I think is artificial and not realistic.  \n",
    "\n",
    "In either case I believe the metric was poorly chosen as it doesn't measure how the predictions would be used in a real world setting.\n",
    "\n",
    "People were able to exploit the flaw in the metric to increase scores.\n",
    "\n",
    "I believe a metric that operates on final output, such as F1 score would have been more appropriate, perhaps weighted by distance from the true event. \n"
   ],
   "metadata": {
    "collapsed": false
   },
   "id": "46602b05883de8a6"
  }
 ],
 "metadata": {
  "kernelspec": {
   "display_name": "Python 3",
   "language": "python",
   "name": "python3"
  },
  "language_info": {
   "codemirror_mode": {
    "name": "ipython",
    "version": 2
   },
   "file_extension": ".py",
   "mimetype": "text/x-python",
   "name": "python",
   "nbconvert_exporter": "python",
   "pygments_lexer": "ipython2",
   "version": "2.7.6"
  }
 },
 "nbformat": 4,
 "nbformat_minor": 5
}
